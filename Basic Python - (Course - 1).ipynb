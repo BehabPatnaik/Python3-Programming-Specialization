{
 "cells": [
  {
   "cell_type": "code",
   "execution_count": 2,
   "id": "5dc56c44",
   "metadata": {},
   "outputs": [
    {
     "name": "stdout",
     "output_type": "stream",
     "text": [
      "Hello World!\n"
     ]
    }
   ],
   "source": [
    "print('Hello World!') # This is a comment"
   ]
  },
  {
   "cell_type": "code",
   "execution_count": 2,
   "id": "e1d7ec75",
   "metadata": {},
   "outputs": [],
   "source": [
    "import random"
   ]
  },
  {
   "cell_type": "code",
   "execution_count": 3,
   "id": "68ec209f",
   "metadata": {},
   "outputs": [
    {
     "name": "stdout",
     "output_type": "stream",
     "text": [
      "0.174980795024269\n"
     ]
    }
   ],
   "source": [
    "probability = random.random()\n",
    "print(probability)"
   ]
  },
  {
   "cell_type": "code",
   "execution_count": 9,
   "id": "191e5b12",
   "metadata": {},
   "outputs": [
    {
     "name": "stdout",
     "output_type": "stream",
     "text": [
      "['a', 'l', 'm', 'b', 'c']\n"
     ]
    }
   ],
   "source": [
    "# We can even insert elements into a list by squeezing them into an empty slice at the desired location.\n",
    "\n",
    "a = ['a','b','c']\n",
    "a[1:1] = ['l','m']\n",
    "print(a)"
   ]
  },
  {
   "cell_type": "code",
   "execution_count": 10,
   "id": "412025fa",
   "metadata": {},
   "outputs": [
    {
     "name": "stdout",
     "output_type": "stream",
     "text": [
      "['a', 'd']\n"
     ]
    }
   ],
   "source": [
    "# We can also remove elements from a list by assigning the empty list to them.\n",
    "\n",
    "b = ['a','b','c','d']\n",
    "b[1:3] = []\n",
    "\n",
    "print(b)"
   ]
  },
  {
   "cell_type": "code",
   "execution_count": 13,
   "id": "8147044a",
   "metadata": {},
   "outputs": [
    {
     "name": "stdout",
     "output_type": "stream",
     "text": [
      "True\n",
      "2659018782640 2659018782640\n",
      "\n",
      "\n",
      "False\n",
      "2659018793408 2659018819136\n"
     ]
    }
   ],
   "source": [
    "# Objects and References\n",
    "\n",
    "# 1) Strings -> (Mutable)\n",
    "\n",
    "a = 'banana'\n",
    "b = 'banana'\n",
    "\n",
    "print(a is b) # -> Both a and b refer to the same memory location/object\n",
    "print(id(a) , id(b))\n",
    "\n",
    "\n",
    "print('\\n')\n",
    "\n",
    "# 2) Lists -> (Immutable)\n",
    "\n",
    "c = [10,20,30]\n",
    "d = [10,20,30]\n",
    "\n",
    "print(c in d) # -> Both a and b refer to the different memory location/object\n",
    "\n",
    "print(id(c), id(d))"
   ]
  },
  {
   "cell_type": "code",
   "execution_count": 14,
   "id": "40423f15",
   "metadata": {},
   "outputs": [
    {
     "name": "stdout",
     "output_type": "stream",
     "text": [
      "False\n",
      "True\n",
      "True\n",
      "[100, 82, 83]\n"
     ]
    }
   ],
   "source": [
    "# Aliasing (Making 2 variable refer to the same object/memory location)\n",
    "\n",
    "# Aliasing and mutable objects can cause some confusion, be on lookout for that\n",
    "\n",
    "a = [81,82,83]\n",
    "b = [81,82,83]\n",
    "\n",
    "print(a is b)\n",
    "\n",
    "b = a # this is the step where the Aliasing happens\n",
    "\n",
    "print(a == b)\n",
    "\n",
    "print(a is b)\n",
    "\n",
    "b[0] = 100\n",
    "print(a)"
   ]
  },
  {
   "cell_type": "code",
   "execution_count": 15,
   "id": "83785b95",
   "metadata": {},
   "outputs": [],
   "source": [
    "# Cloning List \n",
    "\n",
    "# Make a clone of the list and NOT the copy of the list\n",
    "\n",
    "# Cloaning String\n",
    "\n",
    "c = 'behab'\n",
    "d = c[:]\n",
    "\n",
    "d = d + 'Kakak'\n",
    "\n",
    "print(c)\n",
    "print(d)\n",
    "\n",
    "print(c is d)\n",
    "\n",
    "\n",
    "# Cloaning List\n",
    "\n",
    "a = [10,20,30]\n",
    "b = a[:]\n",
    "\n",
    "print(a is b)"
   ]
  },
  {
   "cell_type": "code",
   "execution_count": 138,
   "id": "b6a7aec5",
   "metadata": {},
   "outputs": [
    {
     "name": "stdout",
     "output_type": "stream",
     "text": [
      "4\n",
      "[1, 2, 3, 5]\n"
     ]
    }
   ],
   "source": [
    "a = [1,2,3,4,5]\n",
    "\n",
    "item = a.pop(3)\n",
    "\n",
    "print(item)\n",
    "print(a)"
   ]
  },
  {
   "attachments": {
    "image.png": {
     "image/png": "[encoded data removed]"
    }
   },
   "cell_type": "markdown",
   "id": "0bdfd55d",
   "metadata": {},
   "source": [
    "![image.png](attachment:image.png)"
   ]
  },
  {
   "cell_type": "code",
   "execution_count": 139,
   "id": "946ae010",
   "metadata": {},
   "outputs": [
    {
     "name": "stdout",
     "output_type": "stream",
     "text": [
      "[1, 2, 3, 'bat']\n"
     ]
    }
   ],
   "source": [
    "# Append Vs Concatenate\n",
    "\n",
    "#It is also important to realize that with append, the original list is simply modified.\n",
    "#On the other hand, with concatenation, an entirely new list is created\n",
    "\n",
    "origlist = [1,2,3]\n",
    "\n",
    "origlist = origlist + ['bat']\n",
    "\n",
    "print(origlist)"
   ]
  },
  {
   "cell_type": "code",
   "execution_count": 150,
   "id": "1bf05e8f",
   "metadata": {},
   "outputs": [
    {
     "name": "stdout",
     "output_type": "stream",
     "text": [
      "HELLO, WORLD\n",
      "hello, world\n",
      "2\n",
      "Hello, World\n",
      "Kello, World\n"
     ]
    }
   ],
   "source": [
    "# Non Mutatting Methods On Strings\n",
    "ss = 'Hello, World'\n",
    "\n",
    "#1) upper() -> chaneg a string to upper case\n",
    "print(ss.upper())\n",
    "\n",
    "#2) lower() -> change a string to lower case\n",
    "print(ss.lower())\n",
    "\n",
    "#3) count() -> Return the number of non-overlapping occurrences of substring sub in string S\n",
    "print(ss.count('o'))\n",
    "\n",
    "#4) strip() -> Return a copy of the string with leading and trailing whitespace removed.\n",
    "\n",
    "print(ss.strip())\n",
    "\n",
    "#5) replace()\n",
    "print(ss.replace('H','K'))"
   ]
  },
  {
   "attachments": {
    "image.png": {
     "image/png": "[encoded data removed]"
    }
   },
   "cell_type": "markdown",
   "id": "a82e8e8c",
   "metadata": {},
   "source": [
    "![image.png](attachment:image.png)"
   ]
  },
  {
   "cell_type": "code",
   "execution_count": 154,
   "id": "5628fe45",
   "metadata": {},
   "outputs": [
    {
     "name": "stdout",
     "output_type": "stream",
     "text": [
      "Enter the original price: $2.5\n",
      "Enter discount percentage: 3\n",
      "$2.50 discounted by 3.0% is $2.42.\n"
     ]
    }
   ],
   "source": [
    "# String Formatting Example:\n",
    "\n",
    "origPrice = float(input('Enter the original price: $'))\n",
    "discount = float(input('Enter discount percentage: '))\n",
    "newPrice = (1 - discount/100)*origPrice\n",
    "calculation = '${:.2f} discounted by {}% is ${:.2f}.'.format(origPrice, discount, newPrice)\n",
    "print(calculation)"
   ]
  },
  {
   "cell_type": "code",
   "execution_count": 153,
   "id": "12684497",
   "metadata": {},
   "outputs": [
    {
     "name": "stdout",
     "output_type": "stream",
     "text": [
      "The set is {5, 9}.\n"
     ]
    }
   ],
   "source": [
    "a = 5\n",
    "b = 9\n",
    "setStr = 'The set is {{{}, {}}}.'.format(a, b)\n",
    "print(setStr)"
   ]
  },
  {
   "cell_type": "code",
   "execution_count": 155,
   "id": "19852260",
   "metadata": {},
   "outputs": [],
   "source": [
    "a = [1,2,3]\n",
    "\n"
   ]
  },
  {
   "cell_type": "code",
   "execution_count": 156,
   "id": "733b4332",
   "metadata": {},
   "outputs": [],
   "source": [
    "# Accumulating Lists and Strings"
   ]
  },
  {
   "attachments": {
    "image.png": {
     "image/png": "[encoded data removed]"
    }
   },
   "cell_type": "markdown",
   "id": "920c913d",
   "metadata": {},
   "source": [
    "![image.png](attachment:image.png)"
   ]
  },
  {
   "cell_type": "code",
   "execution_count": null,
   "id": "d14b2e8a",
   "metadata": {},
   "outputs": [],
   "source": [
    "# Don’t Mutate A List That You Are Iterating Through"
   ]
  },
  {
   "cell_type": "code",
   "execution_count": 162,
   "id": "f03d9e1d",
   "metadata": {},
   "outputs": [
    {
     "name": "stdout",
     "output_type": "stream",
     "text": [
      "0 3\n",
      "3 6\n",
      "6 9\n",
      "9 12\n"
     ]
    }
   ],
   "source": [
    "for i in range(0,12,3):\n",
    "    print(i,i+3)"
   ]
  },
  {
   "cell_type": "code",
   "execution_count": null,
   "id": "03c0f706",
   "metadata": {},
   "outputs": [],
   "source": []
  },
  {
   "cell_type": "code",
   "execution_count": null,
   "id": "aeeee388",
   "metadata": {},
   "outputs": [],
   "source": []
  },
  {
   "cell_type": "code",
   "execution_count": null,
   "id": "a5a3303b",
   "metadata": {},
   "outputs": [],
   "source": []
  },
  {
   "cell_type": "code",
   "execution_count": null,
   "id": "8f957f06",
   "metadata": {},
   "outputs": [],
   "source": []
  }
 ],
 "metadata": {
  "kernelspec": {
   "display_name": "Python 3 (ipykernel)",
   "language": "python",
   "name": "python3"
  },
  "language_info": {
   "codemirror_mode": {
    "name": "ipython",
    "version": 3
   },
   "file_extension": ".py",
   "mimetype": "text/x-python",
   "name": "python",
   "nbconvert_exporter": "python",
   "pygments_lexer": "ipython3",
   "version": "3.9.13"
  }
 },
 "nbformat": 4,
 "nbformat_minor": 5
}
